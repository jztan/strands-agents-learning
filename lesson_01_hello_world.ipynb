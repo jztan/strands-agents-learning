{
 "cells": [
  {
   "cell_type": "markdown",
   "id": "e08a6fae",
   "metadata": {},
   "source": [
    "# Lesson 1: Hello World Agent - The Foundation of Strands\n",
    "\n",
    "This interactive notebook covers the most basic agent concepts:\n",
    "- ✅ Basic agent initialization with `Agent()` class\n",
    "- ✅ System prompts and their influence on behavior\n",
    "- ✅ Simple conversation flow and context maintenance\n",
    "- ✅ Agent invocation (sync and async patterns)\n",
    "- ✅ Model configuration with different providers\n",
    "\n",
    "**Estimated time:** 2 hours\n",
    "\n",
    "**Note:** This notebook version allows you to run each part independently and experiment with the code!"
   ]
  },
  {
   "cell_type": "markdown",
   "id": "a179cf53",
   "metadata": {},
   "source": [
    "## Setup\n",
    "\n",
    "First, let's import the necessary modules and set up our environment:"
   ]
  },
  {
   "cell_type": "code",
   "execution_count": null,
   "id": "0ccef908",
   "metadata": {},
   "outputs": [],
   "source": [
    "import asyncio\n",
    "from lesson_utils import (\n",
    "    load_environment,\n",
    "    create_working_model,\n",
    "    check_api_keys,\n",
    "    print_troubleshooting\n",
    ")\n",
    "from strands import Agent\n",
    "\n",
    "# Load environment variables\n",
    "load_environment()\n",
    "\n",
    "# Check API keys\n",
    "check_api_keys()\n",
    "\n",
    "print(\"🎯 Lesson 1: Hello World Agent\")\n",
    "print(\"=\" * 50)"
   ]
  },
  {
   "cell_type": "markdown",
   "id": "998b9bee",
   "metadata": {},
   "source": [
    "## Part 1: Basic Agent Creation\n",
    "\n",
    "The simplest way to create an agent is with a model and optional system prompt.\n",
    "The agent maintains conversation context automatically."
   ]
  },
  {
   "cell_type": "code",
   "execution_count": null,
   "id": "23171572",
   "metadata": {},
   "outputs": [],
   "source": [
    "# Create a working model\n",
    "model = create_working_model()\n",
    "\n",
    "if model:\n",
    "    # Create agent with the model\n",
    "    agent = Agent(\n",
    "        model=model,\n",
    "        system_prompt=\"You are a helpful AI assistant.\"\n",
    "    )\n",
    "\n",
    "    # Ask a question\n",
    "    print(\"Asking: What is 2+2?\")\n",
    "    agent(\"What is 2+2?\")\n",
    "else:\n",
    "    print(\"⚠️ No API key available. Please configure .env file.\")"
   ]
  },
  {
   "cell_type": "markdown",
   "id": "825c9afd",
   "metadata": {},
   "source": [
    "## Part 2: System Prompts - Agent Personalities\n",
    "\n",
    "System prompts define the agent's behavior and personality. Let's see how different prompts create different personalities:"
   ]
  },
  {
   "cell_type": "code",
   "execution_count": null,
   "id": "2cce9ed1",
   "metadata": {},
   "outputs": [],
   "source": [
    "model = create_working_model()\n",
    "\n",
    "if model:\n",
    "    # Pirate personality\n",
    "    pirate_agent = Agent(\n",
    "        model=model,\n",
    "        system_prompt=\"You are a friendly pirate captain. Always talk like a pirate with 'arr' and 'matey'.\"\n",
    "    )\n",
    "\n",
    "    print(\"🏴‍☠️ Pirate Agent:\")\n",
    "    pirate_agent(\"What's your favorite programming language?\")\n",
    "    print()\n",
    "\n",
    "    # Professional personality\n",
    "    professional_agent = Agent(\n",
    "        model=model,\n",
    "        system_prompt=\"You are a formal technical consultant. Be precise and professional.\"\n",
    "    )\n",
    "\n",
    "    print(\"💼 Professional Agent:\")\n",
    "    professional_agent(\"What's your favorite programming language?\")\n",
    "else:\n",
    "    print(\"⚠️ No API key available.\")"
   ]
  },
  {
   "cell_type": "markdown",
   "id": "21126b32",
   "metadata": {},
   "source": [
    "## Part 3: Context-Aware Model Configuration\n",
    "\n",
    "The `create_working_model()` function supports context-based configuration:\n",
    "- **\"demonstration\"/\"demo\"**: Lower temp (0.5), fewer tokens (300) - predictable\n",
    "- **\"creative\"**: Higher temp (0.9), more tokens (800) - varied responses\n",
    "- **\"precise\"/\"tool\"**: Very low temp (0.3), standard tokens (500) - deterministic\n",
    "- **Default**: Standard settings (0.7 temp, 500 tokens)\n",
    "\n",
    "Try different configurations below:"
   ]
  },
  {
   "cell_type": "code",
   "execution_count": null,
   "id": "84dca368",
   "metadata": {},
   "outputs": [],
   "source": [
    "creative_prompt = \"Describe a sunset in 2-3 sentences\"\n",
    "\n",
    "# Demo mode (predictable)\n",
    "print(\"1️⃣ Demonstration mode:\")\n",
    "model_demo = create_working_model(\"demonstration\")\n",
    "if model_demo:\n",
    "    agent = Agent(model=model_demo)\n",
    "    agent(creative_prompt)\n",
    "    print()\n",
    "\n",
    "# Creative mode (varied)\n",
    "print(\"2️⃣ Creative mode:\")\n",
    "model_creative = create_working_model(\"creative writing\")\n",
    "if model_creative:\n",
    "    agent = Agent(model=model_creative)\n",
    "    agent(creative_prompt)\n",
    "    print()\n",
    "\n",
    "# Precise mode\n",
    "print(\"3️⃣ Precise mode:\")\n",
    "model_precise = create_working_model(\"precise calculation\")\n",
    "if model_precise:\n",
    "    agent = Agent(model=model_precise)\n",
    "    agent('Calculate: (25 * 4) + 100')"
   ]
  },
  {
   "cell_type": "markdown",
   "id": "0fd5154c",
   "metadata": {},
   "source": [
    "## Part 4: Multi-turn Conversations\n",
    "\n",
    "Agents automatically maintain conversation context, enabling natural back-and-forth conversations:"
   ]
  },
  {
   "cell_type": "code",
   "execution_count": null,
   "id": "d7689038",
   "metadata": {},
   "outputs": [],
   "source": [
    "model = create_working_model()\n",
    "\n",
    "if model:\n",
    "    agent = Agent(\n",
    "        model=model,\n",
    "        system_prompt=\"You are a helpful coding tutor.\"\n",
    "    )\n",
    "\n",
    "    # First question\n",
    "    print(\"👤 User: What is Python?\")\n",
    "    agent(\"What is Python?\")\n",
    "    print()\n",
    "\n",
    "    # Follow-up question (uses context from previous exchange)\n",
    "    print(\"👤 User: Why is it called that?\")\n",
    "    agent(\"Why is it called that?\")\n",
    "else:\n",
    "    print(\"⚠️ No API key available.\")"
   ]
  },
  {
   "cell_type": "markdown",
   "id": "4aa22edd",
   "metadata": {},
   "source": [
    "## Part 5: Async Agent Operations\n",
    "\n",
    "For production applications, you'll often want async operations. This is essential when building web services or handling multiple conversations:"
   ]
  },
  {
   "cell_type": "code",
   "execution_count": null,
   "id": "714c9be5",
   "metadata": {},
   "outputs": [],
   "source": [
    "model = create_working_model()\n",
    "\n",
    "if model:\n",
    "    agent = Agent(\n",
    "        model=model,\n",
    "        system_prompt=\"You are a helpful assistant.\"\n",
    "    )\n",
    "\n",
    "    # Use invoke_async() for asynchronous operations\n",
    "    print(\"Asking question asynchronously...\")\n",
    "    response = await agent.invoke_async(\"What's the difference between lists and tuples in Python?\")\n",
    "    print(f\"🤖 Async response: {response}\")\n",
    "\n",
    "    # You can run multiple async operations concurrently\n",
    "    print(\"\\nRunning multiple questions concurrently...\")\n",
    "\n",
    "    questions = [\n",
    "        \"What is Python?\",\n",
    "        \"What is JavaScript?\",\n",
    "        \"What is Rust?\"\n",
    "    ]\n",
    "\n",
    "    tasks = [agent.invoke_async(q) for q in questions]\n",
    "    responses = await asyncio.gather(*tasks)\n",
    "\n",
    "    for question, response in zip(questions, responses):\n",
    "        print(f\"❓ Q: {question}\")\n",
    "        print(f\"🤖 A: {response}\\n\")\n",
    "else:\n",
    "    print(\"⚠️ No API key available.\")"
   ]
  },
  {
   "cell_type": "markdown",
   "id": "2c06d554",
   "metadata": {},
   "source": [
    "## Part 6: Streaming Responses\n",
    "\n",
    "For better user experience, you can stream responses as they're generated. This shows text appearing in real-time, like ChatGPT's interface:"
   ]
  },
  {
   "cell_type": "code",
   "execution_count": null,
   "id": "18f729fa",
   "metadata": {},
   "outputs": [],
   "source": [
    "model = create_working_model()\n",
    "\n",
    "if model:\n",
    "    agent = Agent(\n",
    "        model=model,\n",
    "        system_prompt=\"You are a storyteller. Tell engaging, creative stories.\"\n",
    "    )\n",
    "\n",
    "    print(\"Streaming a story (watch it appear in real-time):\")\n",
    "    print(\"Story: \", end=\"\", flush=True)\n",
    "\n",
    "    # Use stream_async() to get real-time responses\n",
    "    async for event in agent.stream_async(\"Tell me a short story about a robot learning to paint\"):\n",
    "        if hasattr(event, 'content'):\n",
    "            print(event.content, end=\"\", flush=True)\n",
    "\n",
    "    print(\"\\n\")\n",
    "else:\n",
    "    print(\"⚠️ No API key available.\")"
   ]
  },
  {
   "cell_type": "markdown",
   "id": "24bd94f2",
   "metadata": {},
   "source": [
    "## Experiments\n",
    "\n",
    "Now that you've learned the basics, try these experiments:\n",
    "\n",
    "1. **Custom Personalities**: Create an agent with a unique personality (e.g., Shakespeare, scientist, comedian)\n",
    "2. **Temperature Testing**: Create models with different contexts and compare responses\n",
    "3. **Multi-turn Exploration**: Build a longer conversation with context\n",
    "4. **Concurrent Requests**: Modify Part 5 to ask 5-10 questions concurrently\n",
    "\n",
    "Use the cell below for your experiments:"
   ]
  },
  {
   "cell_type": "code",
   "execution_count": null,
   "id": "e6fb5f2c",
   "metadata": {},
   "outputs": [],
   "source": [
    "# Your experiments here!\n"
   ]
  },
  {
   "cell_type": "markdown",
   "id": "59bbd5d7",
   "metadata": {},
   "source": [
    "## ✅ Success Criteria\n",
    "\n",
    "You've completed Lesson 1 if:\n",
    "- ✅ Agent responds to basic questions\n",
    "- ✅ System prompt influences behavior (personality changes work)\n",
    "- ✅ Can maintain conversation context across multiple turns\n",
    "- ✅ Both sync and async invocations work correctly\n",
    "- ✅ Streaming shows real-time responses\n",
    "\n",
    "## Next Steps\n",
    "\n",
    "- **Lesson 2**: Adding tools (calculators, web search, etc.)\n",
    "- **Lesson 3**: Multiple tools working together\n",
    "- **Lesson 4**: Stateful tools with persistent data\n",
    "\n",
    "Ready to continue? Open `lesson_02_first_tool.ipynb`!"
   ]
  }
 ],
 "metadata": {
  "kernelspec": {
   "display_name": "Python (Strands)",
   "language": "python",
   "name": "strands-learning"
  },
  "language_info": {
   "codemirror_mode": {
    "name": "ipython",
    "version": 3
   },
   "file_extension": ".py",
   "mimetype": "text/x-python",
   "name": "python",
   "nbconvert_exporter": "python",
   "pygments_lexer": "ipython3",
   "version": "3.10.17"
  }
 },
 "nbformat": 4,
 "nbformat_minor": 5
}
