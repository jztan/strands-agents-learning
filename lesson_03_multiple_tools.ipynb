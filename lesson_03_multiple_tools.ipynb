{
 "cells": [
  {
   "cell_type": "markdown",
   "metadata": {},
   "source": [
    "# Lesson 3: Multiple Tools & Context\n",
    "\n",
    "This lesson demonstrates how agents select and orchestrate multiple tools.\n",
    "\n",
    "## Concepts Covered\n",
    "- Tool selection logic based on descriptions\n",
    "- Multiple tool registration with `tools=[tool1, tool2, tool3]`\n",
    "- Tool orchestration and chaining in single response\n",
    "- Complex reasoning chains with multiple steps\n",
    "- Tool interdependencies and combined results\n",
    "- Context-aware tool selection\n",
    "\n",
    "## Learning Goals\n",
    "- ☐ Agent selects appropriate tool based on query intent\n",
    "- ☐ Can chain multiple tools in one response seamlessly\n",
    "- ☐ Handles ambiguous requests using conversation context\n",
    "- ☐ Combines tool results into coherent responses\n",
    "- ☐ Tool selection is accurate even with overlapping capabilities"
   ]
  },
  {
   "cell_type": "markdown",
   "metadata": {},
   "source": [
    "## Setup: Import Dependencies"
   ]
  },
  {
   "cell_type": "code",
   "execution_count": 1,
   "metadata": {},
   "outputs": [
    {
     "name": "stdout",
     "output_type": "stream",
     "text": [
      "✅ API keys detected: OpenAI\n"
     ]
    },
    {
     "data": {
      "text/plain": [
       "True"
      ]
     },
     "execution_count": 1,
     "metadata": {},
     "output_type": "execute_result"
    }
   ],
   "source": [
    "from datetime import datetime\n",
    "from zoneinfo import ZoneInfo\n",
    "from strands import Agent, tool\n",
    "\n",
    "# Import shared utilities for model configuration\n",
    "from lesson_utils import (\n",
    "    load_environment,\n",
    "    create_working_model,\n",
    "    check_api_keys,\n",
    ")\n",
    "\n",
    "# Load environment and check API keys\n",
    "load_environment()\n",
    "check_api_keys()"
   ]
  },
  {
   "cell_type": "markdown",
   "metadata": {},
   "source": [
    "## Tool 1: Weather Tool\n",
    "\n",
    "A simple weather tool that returns mock weather data for major cities."
   ]
  },
  {
   "cell_type": "code",
   "execution_count": 2,
   "metadata": {},
   "outputs": [],
   "source": [
    "@tool\n",
    "def get_weather(city: str) -> str:\n",
    "    \"\"\"Get current weather conditions for a city.\n",
    "\n",
    "    Args:\n",
    "        city: The name of the city to get weather for\n",
    "\n",
    "    Returns:\n",
    "        Current weather conditions including temperature and description\n",
    "    \"\"\"\n",
    "    # Mock weather data for demonstration\n",
    "    weather_data = {\n",
    "        \"Tokyo\": {\"temp\": 22, \"condition\": \"Partly cloudy\", \"humidity\": 65},\n",
    "        \"New York\": {\"temp\": 18, \"condition\": \"Rainy\", \"humidity\": 80},\n",
    "        \"London\": {\"temp\": 15, \"condition\": \"Foggy\", \"humidity\": 75},\n",
    "        \"Paris\": {\"temp\": 20, \"condition\": \"Sunny\", \"humidity\": 55},\n",
    "        \"Sydney\": {\"temp\": 25, \"condition\": \"Clear\", \"humidity\": 50},\n",
    "        \"Singapore\": {\"temp\": 30, \"condition\": \"Hot and humid\", \"humidity\": 85},\n",
    "        \"San Francisco\": {\"temp\": 16, \"condition\": \"Partly cloudy\", \"humidity\": 70},\n",
    "    }\n",
    "\n",
    "    city_normalized = city.strip()\n",
    "\n",
    "    for known_city, data in weather_data.items():\n",
    "        if known_city.lower() == city_normalized.lower():\n",
    "            return (\n",
    "                f\"Weather in {known_city}: {data['condition']}, \"\n",
    "                f\"{data['temp']}°C, {data['humidity']}% humidity\"\n",
    "            )\n",
    "\n",
    "    return f\"Weather data not available for {city}. Available cities: {', '.join(weather_data.keys())}\""
   ]
  },
  {
   "cell_type": "markdown",
   "metadata": {},
   "source": [
    "## Tool 2: Time/Timezone Tool\n",
    "\n",
    "Returns current time for major cities using Python's `zoneinfo` module."
   ]
  },
  {
   "cell_type": "code",
   "execution_count": 3,
   "metadata": {},
   "outputs": [],
   "source": [
    "@tool\n",
    "def get_time(city: str) -> str:\n",
    "    \"\"\"Get current time for a city.\n",
    "\n",
    "    Args:\n",
    "        city: The name of the city to get time for\n",
    "\n",
    "    Returns:\n",
    "        Current local time and timezone information\n",
    "    \"\"\"\n",
    "    city_timezones = {\n",
    "        \"Tokyo\": \"Asia/Tokyo\",\n",
    "        \"New York\": \"America/New_York\",\n",
    "        \"London\": \"Europe/London\",\n",
    "        \"Paris\": \"Europe/Paris\",\n",
    "        \"Sydney\": \"Australia/Sydney\",\n",
    "        \"Singapore\": \"Asia/Singapore\",\n",
    "        \"San Francisco\": \"America/Los_Angeles\",\n",
    "    }\n",
    "\n",
    "    city_normalized = city.strip()\n",
    "\n",
    "    for known_city, tz_name in city_timezones.items():\n",
    "        if known_city.lower() == city_normalized.lower():\n",
    "            try:\n",
    "                tz = ZoneInfo(tz_name)\n",
    "                local_time = datetime.now(tz)\n",
    "                time_str = local_time.strftime(\"%I:%M %p\")\n",
    "                date_str = local_time.strftime(\"%A, %B %d, %Y\")\n",
    "\n",
    "                return (\n",
    "                    f\"Current time in {known_city}: {time_str} ({tz_name})\\n\"\n",
    "                    f\"Date: {date_str}\"\n",
    "                )\n",
    "            except Exception as e:\n",
    "                return f\"Error getting time for {known_city}: {str(e)}\"\n",
    "\n",
    "    return f\"Time data not available for {city}. Available cities: {', '.join(city_timezones.keys())}\""
   ]
  },
  {
   "cell_type": "markdown",
   "metadata": {},
   "source": [
    "## Tool 3: Unit Converter Tool\n",
    "\n",
    "Converts between temperature, distance, and weight units."
   ]
  },
  {
   "cell_type": "code",
   "execution_count": 4,
   "metadata": {},
   "outputs": [],
   "source": [
    "@tool\n",
    "def convert_units(value: float, from_unit: str, to_unit: str) -> str:\n",
    "    \"\"\"Convert between different units of measurement.\n",
    "\n",
    "    Supports temperature (C, F, K), distance (m, km, mi, ft), and weight (kg, lb, oz).\n",
    "\n",
    "    Args:\n",
    "        value: The numeric value to convert\n",
    "        from_unit: The source unit (e.g., 'C', 'F', 'km', 'kg')\n",
    "        to_unit: The target unit (e.g., 'F', 'C', 'mi', 'lb')\n",
    "\n",
    "    Returns:\n",
    "        Converted value with units\n",
    "    \"\"\"\n",
    "    from_unit = from_unit.lower().strip()\n",
    "    to_unit = to_unit.lower().strip()\n",
    "\n",
    "    # Temperature conversions\n",
    "    if from_unit in ['c', 'celsius', 'f', 'fahrenheit', 'k', 'kelvin']:\n",
    "        if from_unit in ['f', 'fahrenheit']:\n",
    "            celsius = (value - 32) * 5/9\n",
    "        elif from_unit in ['k', 'kelvin']:\n",
    "            celsius = value - 273.15\n",
    "        else:\n",
    "            celsius = value\n",
    "\n",
    "        if to_unit in ['f', 'fahrenheit']:\n",
    "            result = celsius * 9/5 + 32\n",
    "            return f\"{value}°{from_unit.upper()} = {result:.1f}°F\"\n",
    "        elif to_unit in ['k', 'kelvin']:\n",
    "            result = celsius + 273.15\n",
    "            return f\"{value}°{from_unit.upper()} = {result:.1f}K\"\n",
    "        elif to_unit in ['c', 'celsius']:\n",
    "            return f\"{value}°{from_unit.upper()} = {celsius:.1f}°C\"\n",
    "        else:\n",
    "            return f\"Unknown temperature unit: {to_unit}. Use C, F, or K.\"\n",
    "\n",
    "    # Distance conversions\n",
    "    elif from_unit in ['m', 'meter', 'meters', 'km', 'kilometer', 'kilometers',\n",
    "                       'mi', 'mile', 'miles', 'ft', 'feet', 'foot']:\n",
    "        if from_unit in ['km', 'kilometer', 'kilometers']:\n",
    "            meters = value * 1000\n",
    "        elif from_unit in ['mi', 'mile', 'miles']:\n",
    "            meters = value * 1609.34\n",
    "        elif from_unit in ['ft', 'feet', 'foot']:\n",
    "            meters = value * 0.3048\n",
    "        else:\n",
    "            meters = value\n",
    "\n",
    "        if to_unit in ['km', 'kilometer', 'kilometers']:\n",
    "            result = meters / 1000\n",
    "            return f\"{value} {from_unit} = {result:.2f} km\"\n",
    "        elif to_unit in ['mi', 'mile', 'miles']:\n",
    "            result = meters / 1609.34\n",
    "            return f\"{value} {from_unit} = {result:.2f} miles\"\n",
    "        elif to_unit in ['ft', 'feet', 'foot']:\n",
    "            result = meters / 0.3048\n",
    "            return f\"{value} {from_unit} = {result:.1f} feet\"\n",
    "        elif to_unit in ['m', 'meter', 'meters']:\n",
    "            return f\"{value} {from_unit} = {meters:.2f} meters\"\n",
    "        else:\n",
    "            return f\"Unknown distance unit: {to_unit}. Use m, km, mi, or ft.\"\n",
    "\n",
    "    # Weight conversions\n",
    "    elif from_unit in ['kg', 'kilogram', 'kilograms', 'lb', 'pound', 'pounds',\n",
    "                       'oz', 'ounce', 'ounces']:\n",
    "        if from_unit in ['lb', 'pound', 'pounds']:\n",
    "            kg = value * 0.453592\n",
    "        elif from_unit in ['oz', 'ounce', 'ounces']:\n",
    "            kg = value * 0.0283495\n",
    "        else:\n",
    "            kg = value\n",
    "\n",
    "        if to_unit in ['lb', 'pound', 'pounds']:\n",
    "            result = kg / 0.453592\n",
    "            return f\"{value} {from_unit} = {result:.2f} lb\"\n",
    "        elif to_unit in ['oz', 'ounce', 'ounces']:\n",
    "            result = kg / 0.0283495\n",
    "            return f\"{value} {from_unit} = {result:.2f} oz\"\n",
    "        elif to_unit in ['kg', 'kilogram', 'kilograms']:\n",
    "            return f\"{value} {from_unit} = {kg:.2f} kg\"\n",
    "        else:\n",
    "            return f\"Unknown weight unit: {to_unit}. Use kg, lb, or oz.\"\n",
    "\n",
    "    else:\n",
    "        return (\n",
    "            f\"Unknown unit type: {from_unit}. Supported categories:\\n\"\n",
    "            \"- Temperature: C, F, K\\n\"\n",
    "            \"- Distance: m, km, mi, ft\\n\"\n",
    "            \"- Weight: kg, lb, oz\"\n",
    "        )"
   ]
  },
  {
   "cell_type": "markdown",
   "metadata": {},
   "source": [
    "## Part 1: Single Tool Selection\n",
    "\n",
    "Demonstrate agent selecting the appropriate tool based on query intent."
   ]
  },
  {
   "cell_type": "code",
   "execution_count": 5,
   "metadata": {},
   "outputs": [
    {
     "name": "stdout",
     "output_type": "stream",
     "text": [
      "🚀 Using OpenAI gpt-4o-mini for tool selection (precise mode)\n",
      "Query: What's the weather in Tokyo?\n",
      "\n",
      "Tool #1: get_weather\n",
      "The weather in Tokyo is partly cloudy with a temperature of 22°C and 65% humidity."
     ]
    },
    {
     "data": {
      "text/plain": [
       "AgentResult(stop_reason='end_turn', message={'role': 'assistant', 'content': [{'text': 'The weather in Tokyo is partly cloudy with a temperature of 22°C and 65% humidity.'}]}, metrics=EventLoopMetrics(cycle_count=2, tool_metrics={'get_weather': ToolMetrics(tool={'toolUseId': 'call_1tOeoYAEAtolil03Dju3VaJq', 'name': 'get_weather', 'input': {'city': 'Tokyo'}}, call_count=1, success_count=1, error_count=0, total_time=0.0004200935363769531)}, cycle_durations=[3.3708879947662354], traces=[<strands.telemetry.metrics.Trace object at 0x114f2f490>, <strands.telemetry.metrics.Trace object at 0x11554e410>], accumulated_usage={'inputTokens': 694, 'outputTokens': 35, 'totalTokens': 729}, accumulated_metrics={'latencyMs': 0}), state={})"
      ]
     },
     "execution_count": 5,
     "metadata": {},
     "output_type": "execute_result"
    }
   ],
   "source": [
    "working_model = create_working_model(\"tool selection\")\n",
    "\n",
    "# Create agent with all three tools\n",
    "agent = Agent(\n",
    "    model=working_model,\n",
    "    tools=[get_weather, get_time, convert_units],\n",
    "    system_prompt=\"You are a helpful assistant with access to weather, time, and unit conversion tools.\"\n",
    ")\n",
    "\n",
    "# Test: Weather query\n",
    "print(\"Query: What's the weather in Tokyo?\")\n",
    "agent(\"What's the weather in Tokyo?\")"
   ]
  },
  {
   "cell_type": "code",
   "execution_count": 6,
   "metadata": {},
   "outputs": [
    {
     "name": "stdout",
     "output_type": "stream",
     "text": [
      "Query: What time is it in New York?\n",
      "\n",
      "Tool #2: get_time\n",
      "The current time in New York is 11:01 AM on Saturday, October 4, 2025."
     ]
    },
    {
     "data": {
      "text/plain": [
       "AgentResult(stop_reason='end_turn', message={'role': 'assistant', 'content': [{'text': 'The current time in New York is 11:01 AM on Saturday, October 4, 2025.'}]}, metrics=EventLoopMetrics(cycle_count=4, tool_metrics={'get_weather': ToolMetrics(tool={'toolUseId': 'call_1tOeoYAEAtolil03Dju3VaJq', 'name': 'get_weather', 'input': {'city': 'Tokyo'}}, call_count=1, success_count=1, error_count=0, total_time=0.0004200935363769531), 'get_time': ToolMetrics(tool={'toolUseId': 'call_1vLQ3OymqqAqqckDeHTTgbhT', 'name': 'get_time', 'input': {'city': 'New York'}}, call_count=1, success_count=1, error_count=0, total_time=0.0019278526306152344)}, cycle_durations=[3.3708879947662354, 4.377479076385498], traces=[<strands.telemetry.metrics.Trace object at 0x114f2f490>, <strands.telemetry.metrics.Trace object at 0x11554e410>, <strands.telemetry.metrics.Trace object at 0x114715000>, <strands.telemetry.metrics.Trace object at 0x114f2ea70>], accumulated_usage={'inputTokens': 1549, 'outputTokens': 74, 'totalTokens': 1623}, accumulated_metrics={'latencyMs': 0}), state={})"
      ]
     },
     "execution_count": 6,
     "metadata": {},
     "output_type": "execute_result"
    }
   ],
   "source": [
    "# Test: Time query\n",
    "print(\"Query: What time is it in New York?\")\n",
    "agent(\"What time is it in New York?\")"
   ]
  },
  {
   "cell_type": "code",
   "execution_count": 7,
   "metadata": {},
   "outputs": [
    {
     "name": "stdout",
     "output_type": "stream",
     "text": [
      "Query: Convert 100 km to miles\n",
      "\n",
      "Tool #3: convert_units\n",
      "100 kilometers is equal to 62.14 miles."
     ]
    },
    {
     "data": {
      "text/plain": [
       "AgentResult(stop_reason='end_turn', message={'role': 'assistant', 'content': [{'text': '100 kilometers is equal to 62.14 miles.'}]}, metrics=EventLoopMetrics(cycle_count=6, tool_metrics={'get_weather': ToolMetrics(tool={'toolUseId': 'call_1tOeoYAEAtolil03Dju3VaJq', 'name': 'get_weather', 'input': {'city': 'Tokyo'}}, call_count=1, success_count=1, error_count=0, total_time=0.0004200935363769531), 'get_time': ToolMetrics(tool={'toolUseId': 'call_1vLQ3OymqqAqqckDeHTTgbhT', 'name': 'get_time', 'input': {'city': 'New York'}}, call_count=1, success_count=1, error_count=0, total_time=0.0019278526306152344), 'convert_units': ToolMetrics(tool={'toolUseId': 'call_UpeYtDIDStOPRAFya1xnrfE8', 'name': 'convert_units', 'input': {'value': 100, 'from_unit': 'km', 'to_unit': 'mi'}}, call_count=1, success_count=1, error_count=0, total_time=0.0005958080291748047)}, cycle_durations=[3.3708879947662354, 4.377479076385498, 3.64266300201416], traces=[<strands.telemetry.metrics.Trace object at 0x114f2f490>, <strands.telemetry.metrics.Trace object at 0x11554e410>, <strands.telemetry.metrics.Trace object at 0x114715000>, <strands.telemetry.metrics.Trace object at 0x114f2ea70>, <strands.telemetry.metrics.Trace object at 0x11313bfa0>, <strands.telemetry.metrics.Trace object at 0x1155a39a0>], accumulated_usage={'inputTokens': 2571, 'outputTokens': 110, 'totalTokens': 2681}, accumulated_metrics={'latencyMs': 0}), state={})"
      ]
     },
     "execution_count": 7,
     "metadata": {},
     "output_type": "execute_result"
    }
   ],
   "source": [
    "# Test: Unit conversion query\n",
    "print(\"Query: Convert 100 km to miles\")\n",
    "agent(\"Convert 100 km to miles\")"
   ]
  },
  {
   "cell_type": "markdown",
   "metadata": {},
   "source": [
    "## Part 2: Tool Chaining\n",
    "\n",
    "Demonstrate agent using multiple tools in one response."
   ]
  },
  {
   "cell_type": "code",
   "execution_count": 8,
   "metadata": {},
   "outputs": [
    {
     "name": "stdout",
     "output_type": "stream",
     "text": [
      "🚀 Using OpenAI gpt-4o-mini for tool chaining (precise mode)\n",
      "Query: What's the weather and time in London?\n",
      "\n",
      "Tool #1: get_weather\n",
      "\n",
      "Tool #2: get_time\n",
      "The current weather in London is foggy with a temperature of 15°C and 75% humidity. \n",
      "\n",
      "The local time in London is 04:01 PM on Saturday, October 4, 2025."
     ]
    },
    {
     "data": {
      "text/plain": [
       "AgentResult(stop_reason='end_turn', message={'role': 'assistant', 'content': [{'text': 'The current weather in London is foggy with a temperature of 15°C and 75% humidity. \\n\\nThe local time in London is 04:01 PM on Saturday, October 4, 2025.'}]}, metrics=EventLoopMetrics(cycle_count=2, tool_metrics={'get_weather': ToolMetrics(tool={'toolUseId': 'call_cFWGyaJHkFYDsJ7BnQq5YOFb', 'name': 'get_weather', 'input': {'city': 'London'}}, call_count=1, success_count=1, error_count=0, total_time=0.0008168220520019531), 'get_time': ToolMetrics(tool={'toolUseId': 'call_EWm5YI2FO0HNQCUNMZUHjrll', 'name': 'get_time', 'input': {'city': 'London'}}, call_count=1, success_count=1, error_count=0, total_time=0.0010962486267089844)}, cycle_durations=[1.8081998825073242], traces=[<strands.telemetry.metrics.Trace object at 0x1155a1150>, <strands.telemetry.metrics.Trace object at 0x114f2eef0>], accumulated_usage={'inputTokens': 762, 'outputTokens': 89, 'totalTokens': 851}, accumulated_metrics={'latencyMs': 0}), state={})"
      ]
     },
     "execution_count": 8,
     "metadata": {},
     "output_type": "execute_result"
    }
   ],
   "source": [
    "working_model = create_working_model(\"tool chaining\")\n",
    "\n",
    "agent = Agent(\n",
    "    model=working_model,\n",
    "    tools=[get_weather, get_time, convert_units],\n",
    "    system_prompt=\"You are a helpful assistant. Use multiple tools when needed to give complete answers.\"\n",
    ")\n",
    "\n",
    "# Query requiring multiple tools\n",
    "print(\"Query: What's the weather and time in London?\")\n",
    "agent(\"What's the weather and time in London?\")"
   ]
  },
  {
   "cell_type": "code",
   "execution_count": null,
   "metadata": {},
   "outputs": [
    {
     "name": "stdout",
     "output_type": "stream",
     "text": [
      "Query: Tell me about Paris - weather, time, and convert 20°C to Fahrenheit\n",
      "\n",
      "Tool #13: get_weather\n",
      "\n",
      "Tool #14: convert_units\n",
      "The current temperature in Paris is 68°F."
     ]
    },
    {
     "data": {
      "text/plain": [
       "AgentResult(stop_reason='end_turn', message={'role': 'assistant', 'content': [{'text': 'The current temperature in Paris is 68°F.'}]}, metrics=EventLoopMetrics(cycle_count=15, tool_metrics={'get_weather': ToolMetrics(tool={'toolUseId': 'call_4Iyxk0sJKcuLCwaFFpVxBTIU', 'name': 'get_weather', 'input': {'city': 'Paris'}}, call_count=6, success_count=6, error_count=0, total_time=0.005405902862548828), 'get_time': ToolMetrics(tool={'toolUseId': 'call_02UHxWnesLuVhxVeRzjUUn56', 'name': 'get_time', 'input': {'city': 'Paris'}}, call_count=3, success_count=3, error_count=0, total_time=0.0034084320068359375), 'convert_units': ToolMetrics(tool={'toolUseId': 'call_RFkLyBPIPh5mwHOjOEa7Wka7', 'name': 'convert_units', 'input': {'value': 20, 'from_unit': 'C', 'to_unit': 'F'}}, call_count=5, success_count=5, error_count=0, total_time=0.0031807422637939453)}, cycle_durations=[1.8081998825073242, 1.7210540771484375, 1.6255648136138916, 0.8587899208068848, 1.0631332397460938, 0.8769350051879883], traces=[<strands.telemetry.metrics.Trace object at 0x1155a1150>, <strands.telemetry.metrics.Trace object at 0x114f2eef0>, <strands.telemetry.metrics.Trace object at 0x11554eb90>, <strands.telemetry.metrics.Trace object at 0x1155ffd30>, <strands.telemetry.metrics.Trace object at 0x1155fd570>, <strands.telemetry.metrics.Trace object at 0x1155fe650>, <strands.telemetry.metrics.Trace object at 0x11554c310>, <strands.telemetry.metrics.Trace object at 0x11554f940>, <strands.telemetry.metrics.Trace object at 0x114f2ee00>, <strands.telemetry.metrics.Trace object at 0x1155fd0c0>, <strands.telemetry.metrics.Trace object at 0x11554e6e0>, <strands.telemetry.metrics.Trace object at 0x1155fc370>, <strands.telemetry.metrics.Trace object at 0x1155a1360>, <strands.telemetry.metrics.Trace object at 0x1155a2770>, <strands.telemetry.metrics.Trace object at 0x114e92ce0>], accumulated_usage={'inputTokens': 13343, 'outputTokens': 497, 'totalTokens': 13840}, accumulated_metrics={'latencyMs': 0}), state={})"
      ]
     },
     "execution_count": 13,
     "metadata": {},
     "output_type": "execute_result"
    }
   ],
   "source": [
    "# Complex query with 3 tools\n",
    "print(\"Query: Can you tell me the current temperature in Paris (°F)?\")\n",
    "agent(\"Can you tell me the current temperature in Paris (°F)?\")"
   ]
  },
  {
   "cell_type": "markdown",
   "metadata": {},
   "source": [
    "## Part 3: Context-Aware Tool Selection\n",
    "\n",
    "Demonstrate agent using context from conversation."
   ]
  },
  {
   "cell_type": "code",
   "execution_count": null,
   "metadata": {},
   "outputs": [],
   "source": [
    "working_model = create_working_model(\"context awareness\")\n",
    "\n",
    "agent = Agent(\n",
    "    model=working_model,\n",
    "    tools=[get_weather, get_time, convert_units],\n",
    "    system_prompt=\"You are a helpful assistant. Remember context from previous messages.\"\n",
    ")\n",
    "\n",
    "# Multi-turn conversation\n",
    "print(\"Turn 1: What's the weather in Tokyo?\")\n",
    "agent(\"What's the weather in Tokyo?\")\n",
    "\n",
    "print(\"\\nTurn 2: What about Sydney? (ambiguous - should infer 'weather')\")\n",
    "agent(\"What about Sydney?\")\n",
    "\n",
    "print(\"\\nTurn 3: And the time there? (should know 'there' = Sydney)\")\n",
    "agent(\"And the time there?\")"
   ]
  },
  {
   "cell_type": "markdown",
   "metadata": {},
   "source": [
    "## Part 4: Error Handling\n",
    "\n",
    "Demonstrate tools handling errors gracefully."
   ]
  },
  {
   "cell_type": "code",
   "execution_count": null,
   "metadata": {},
   "outputs": [],
   "source": [
    "working_model = create_working_model(\"error handling\")\n",
    "\n",
    "agent = Agent(\n",
    "    model=working_model,\n",
    "    tools=[get_weather, get_time, convert_units],\n",
    "    system_prompt=\"You are a helpful assistant. When tools return errors, explain them clearly.\"\n",
    ")\n",
    "\n",
    "# Test: Non-existent city\n",
    "print(\"Query: What's the weather in Atlantis?\")\n",
    "agent(\"What's the weather in Atlantis?\")"
   ]
  },
  {
   "cell_type": "code",
   "execution_count": null,
   "metadata": {},
   "outputs": [],
   "source": [
    "# Test: Invalid unit\n",
    "print(\"Query: Convert 100 meters to bananas\")\n",
    "agent(\"Convert 100 meters to bananas\")"
   ]
  },
  {
   "cell_type": "markdown",
   "metadata": {},
   "source": [
    "## Part 5: Combined Reasoning with Multiple Tools\n",
    "\n",
    "Demonstrate complex queries requiring reasoning and multiple tool calls."
   ]
  },
  {
   "cell_type": "code",
   "execution_count": null,
   "metadata": {},
   "outputs": [],
   "source": [
    "working_model = create_working_model(\"combined reasoning\")\n",
    "\n",
    "agent = Agent(\n",
    "    model=working_model,\n",
    "    tools=[get_weather, get_time, convert_units],\n",
    "    system_prompt=\"You are a helpful travel assistant. Combine tool information with reasoning.\"\n",
    ")\n",
    "\n",
    "# Complex query requiring multiple tools and reasoning\n",
    "query = (\n",
    "    \"I'm in New York and want to call someone in Singapore. \"\n",
    "    \"What's the weather like there, what time is it, and is it a good time to call?\"\n",
    ")\n",
    "\n",
    "print(f\"Query: {query}\")\n",
    "agent(query)"
   ]
  },
  {
   "cell_type": "markdown",
   "metadata": {},
   "source": [
    "## Success Criteria\n",
    "\n",
    "After completing this lesson, you should have seen:\n",
    "\n",
    "- ☐ Agent selects appropriate tool based on query intent\n",
    "  - Weather queries use get_weather\n",
    "  - Time queries use get_time\n",
    "  - Conversion queries use convert_units\n",
    "\n",
    "- ☐ Can chain multiple tools in one response seamlessly\n",
    "  - \"Weather and time in London\" uses both tools\n",
    "  - Results are combined coherently\n",
    "\n",
    "- ☐ Handles ambiguous requests using conversation context\n",
    "  - \"What about Sydney?\" infers weather from previous question\n",
    "  - \"And the time there?\" knows \"there\" refers to Sydney\n",
    "\n",
    "- ☐ Combines tool results into coherent responses\n",
    "  - Tool outputs are integrated into natural language\n",
    "  - Agent adds reasoning and interpretation\n",
    "\n",
    "- ☐ Tool selection is accurate even with overlapping capabilities\n",
    "  - Doesn't confuse temperature conversion with weather\n",
    "  - Selects correct tool even when multiple could apply"
   ]
  },
  {
   "cell_type": "markdown",
   "metadata": {},
   "source": [
    "## Experiments to Try\n",
    "\n",
    "Try these experiments in new cells below:\n",
    "\n",
    "1. **Multi-city comparison:**\n",
    "   - \"Compare weather between Tokyo, New York, and London\"\n",
    "\n",
    "2. **Complex unit conversion chains:**\n",
    "   - \"Convert 5 km to miles, then to feet\"\n",
    "\n",
    "3. **Time zone calculations:**\n",
    "   - \"If it's 3pm in San Francisco, what time is it in Singapore?\"\n",
    "\n",
    "4. **Add a new tool:**\n",
    "   - Create currency converter\n",
    "   - Add to tools list\n",
    "   - Test tool orchestration with 4 tools\n",
    "\n",
    "5. **Test ambiguous context:**\n",
    "   - Start conversation about Paris\n",
    "   - Ask follow-ups without mentioning city name\n",
    "   - See if agent maintains context\n",
    "\n",
    "6. **Error recovery:**\n",
    "   - Give intentionally bad inputs\n",
    "   - See how agent explains errors\n",
    "   - Test if agent suggests corrections"
   ]
  },
  {
   "cell_type": "markdown",
   "metadata": {},
   "source": [
    "## Next Steps\n",
    "\n",
    "Continue to **Lesson 4: Stateful Tools with Classes** to learn how to create tools that maintain state across invocations."
   ]
  }
 ],
 "metadata": {
  "kernelspec": {
   "display_name": "Python (Strands)",
   "language": "python",
   "name": "strands-learning"
  },
  "language_info": {
   "codemirror_mode": {
    "name": "ipython",
    "version": 3
   },
   "file_extension": ".py",
   "mimetype": "text/x-python",
   "name": "python",
   "nbconvert_exporter": "python",
   "pygments_lexer": "ipython3",
   "version": "3.10.0"
  }
 },
 "nbformat": 4,
 "nbformat_minor": 4
}
